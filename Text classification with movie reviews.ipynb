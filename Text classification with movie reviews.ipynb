{
 "cells": [
  {
   "cell_type": "markdown",
   "metadata": {},
   "source": [
    "https://github.com/tensorflow/docs/blob/master/site/en/tutorials/keras/basic_text_classification.ipynb"
   ]
  },
  {
   "cell_type": "code",
   "execution_count": 1,
   "metadata": {},
   "outputs": [
    {
     "name": "stdout",
     "output_type": "stream",
     "text": [
      "1.10.0\n"
     ]
    }
   ],
   "source": [
    "import tensorflow as tf\n",
    "from tensorflow import keras\n",
    "\n",
    "import numpy as np\n",
    "\n",
    "print(tf.__version__)"
   ]
  },
  {
   "cell_type": "code",
   "execution_count": 2,
   "metadata": {},
   "outputs": [],
   "source": [
    "imdb = keras.datasets.imdb\n",
    "\n",
    "(train_data, train_labels), (test_data, test_labels) = imdb.load_data(num_words=10000)"
   ]
  },
  {
   "cell_type": "code",
   "execution_count": 3,
   "metadata": {},
   "outputs": [
    {
     "name": "stdout",
     "output_type": "stream",
     "text": [
      "Training entries: 25000, labels: 25000\n"
     ]
    }
   ],
   "source": [
    "print(\"Training entries: {}, labels: {}\".format(len(train_data), len(train_labels)))"
   ]
  },
  {
   "cell_type": "code",
   "execution_count": 4,
   "metadata": {},
   "outputs": [
    {
     "name": "stdout",
     "output_type": "stream",
     "text": [
      "[1, 14, 22, 16, 43, 530, 973, 1622, 1385, 65, 458, 4468, 66, 3941, 4, 173, 36, 256, 5, 25, 100, 43, 838, 112, 50, 670, 2, 9, 35, 480, 284, 5, 150, 4, 172, 112, 167, 2, 336, 385, 39, 4, 172, 4536, 1111, 17, 546, 38, 13, 447, 4, 192, 50, 16, 6, 147, 2025, 19, 14, 22, 4, 1920, 4613, 469, 4, 22, 71, 87, 12, 16, 43, 530, 38, 76, 15, 13, 1247, 4, 22, 17, 515, 17, 12, 16, 626, 18, 2, 5, 62, 386, 12, 8, 316, 8, 106, 5, 4, 2223, 5244, 16, 480, 66, 3785, 33, 4, 130, 12, 16, 38, 619, 5, 25, 124, 51, 36, 135, 48, 25, 1415, 33, 6, 22, 12, 215, 28, 77, 52, 5, 14, 407, 16, 82, 2, 8, 4, 107, 117, 5952, 15, 256, 4, 2, 7, 3766, 5, 723, 36, 71, 43, 530, 476, 26, 400, 317, 46, 7, 4, 2, 1029, 13, 104, 88, 4, 381, 15, 297, 98, 32, 2071, 56, 26, 141, 6, 194, 7486, 18, 4, 226, 22, 21, 134, 476, 26, 480, 5, 144, 30, 5535, 18, 51, 36, 28, 224, 92, 25, 104, 4, 226, 65, 16, 38, 1334, 88, 12, 16, 283, 5, 16, 4472, 113, 103, 32, 15, 16, 5345, 19, 178, 32]\n"
     ]
    }
   ],
   "source": [
    "print(train_data[0])"
   ]
  },
  {
   "cell_type": "code",
   "execution_count": 5,
   "metadata": {},
   "outputs": [
    {
     "data": {
      "text/plain": [
       "(218, 189)"
      ]
     },
     "execution_count": 5,
     "metadata": {},
     "output_type": "execute_result"
    }
   ],
   "source": [
    "len(train_data[0]), len(train_data[1])"
   ]
  },
  {
   "cell_type": "code",
   "execution_count": 6,
   "metadata": {},
   "outputs": [],
   "source": [
    "# A dictionary mapping words to an integer index\n",
    "word_index = imdb.get_word_index()\n",
    "\n",
    "# The first indices are reserved\n",
    "word_index = {k:(v+3) for k,v in word_index.items()} \n",
    "word_index[\"<PAD>\"] = 0\n",
    "word_index[\"<START>\"] = 1\n",
    "word_index[\"<UNK>\"] = 2  # unknown\n",
    "word_index[\"<UNUSED>\"] = 3\n",
    "\n",
    "reverse_word_index = dict([(value, key) for (key, value) in word_index.items()])\n",
    "\n",
    "def decode_review(text):\n",
    "    return ' '.join([reverse_word_index.get(i, '?') for i in text])"
   ]
  },
  {
   "cell_type": "code",
   "execution_count": 7,
   "metadata": {},
   "outputs": [
    {
     "data": {
      "text/plain": [
       "\"<START> this film was just brilliant casting location scenery story direction everyone's really suited the part they played and you could just imagine being there robert <UNK> is an amazing actor and now the same being director <UNK> father came from the same scottish island as myself so i loved the fact there was a real connection with this film the witty remarks throughout the film were great it was just brilliant so much that i bought the film as soon as it was released for <UNK> and would recommend it to everyone to watch and the fly fishing was amazing really cried at the end it was so sad and you know what they say if you cry at a film it must have been good and this definitely was also <UNK> to the two little boy's that played the <UNK> of norman and paul they were just brilliant children are often left out of the <UNK> list i think because the stars that play them all grown up are such a big profile for the whole film but these children are amazing and should be praised for what they have done don't you think the whole story was so lovely because it was true and was someone's life after all that was shared with us all\""
      ]
     },
     "execution_count": 7,
     "metadata": {},
     "output_type": "execute_result"
    }
   ],
   "source": [
    "decode_review(train_data[0])"
   ]
  },
  {
   "cell_type": "code",
   "execution_count": 8,
   "metadata": {},
   "outputs": [],
   "source": [
    "train_data = keras.preprocessing.sequence.pad_sequences(train_data,\n",
    "                                                        value=word_index[\"<PAD>\"],\n",
    "                                                        padding='post',\n",
    "                                                        maxlen=256)\n",
    "\n",
    "test_data = keras.preprocessing.sequence.pad_sequences(test_data,\n",
    "                                                       value=word_index[\"<PAD>\"],\n",
    "                                                       padding='post',\n",
    "                                                       maxlen=256)"
   ]
  },
  {
   "cell_type": "code",
   "execution_count": 9,
   "metadata": {},
   "outputs": [
    {
     "data": {
      "text/plain": [
       "(256, 256)"
      ]
     },
     "execution_count": 9,
     "metadata": {},
     "output_type": "execute_result"
    }
   ],
   "source": [
    "len(train_data[0]), len(train_data[1])"
   ]
  },
  {
   "cell_type": "code",
   "execution_count": 10,
   "metadata": {},
   "outputs": [
    {
     "name": "stdout",
     "output_type": "stream",
     "text": [
      "[   1   14   22   16   43  530  973 1622 1385   65  458 4468   66 3941\n",
      "    4  173   36  256    5   25  100   43  838  112   50  670    2    9\n",
      "   35  480  284    5  150    4  172  112  167    2  336  385   39    4\n",
      "  172 4536 1111   17  546   38   13  447    4  192   50   16    6  147\n",
      " 2025   19   14   22    4 1920 4613  469    4   22   71   87   12   16\n",
      "   43  530   38   76   15   13 1247    4   22   17  515   17   12   16\n",
      "  626   18    2    5   62  386   12    8  316    8  106    5    4 2223\n",
      " 5244   16  480   66 3785   33    4  130   12   16   38  619    5   25\n",
      "  124   51   36  135   48   25 1415   33    6   22   12  215   28   77\n",
      "   52    5   14  407   16   82    2    8    4  107  117 5952   15  256\n",
      "    4    2    7 3766    5  723   36   71   43  530  476   26  400  317\n",
      "   46    7    4    2 1029   13  104   88    4  381   15  297   98   32\n",
      " 2071   56   26  141    6  194 7486   18    4  226   22   21  134  476\n",
      "   26  480    5  144   30 5535   18   51   36   28  224   92   25  104\n",
      "    4  226   65   16   38 1334   88   12   16  283    5   16 4472  113\n",
      "  103   32   15   16 5345   19  178   32    0    0    0    0    0    0\n",
      "    0    0    0    0    0    0    0    0    0    0    0    0    0    0\n",
      "    0    0    0    0    0    0    0    0    0    0    0    0    0    0\n",
      "    0    0    0    0]\n"
     ]
    }
   ],
   "source": [
    "print(train_data[0])"
   ]
  },
  {
   "cell_type": "code",
   "execution_count": 11,
   "metadata": {},
   "outputs": [
    {
     "name": "stdout",
     "output_type": "stream",
     "text": [
      "_________________________________________________________________\n",
      "Layer (type)                 Output Shape              Param #   \n",
      "=================================================================\n",
      "embedding (Embedding)        (None, None, 16)          160000    \n",
      "_________________________________________________________________\n",
      "global_average_pooling1d (Gl (None, 16)                0         \n",
      "_________________________________________________________________\n",
      "dense (Dense)                (None, 16)                272       \n",
      "_________________________________________________________________\n",
      "dense_1 (Dense)              (None, 1)                 17        \n",
      "=================================================================\n",
      "Total params: 160,289\n",
      "Trainable params: 160,289\n",
      "Non-trainable params: 0\n",
      "_________________________________________________________________\n"
     ]
    }
   ],
   "source": [
    "# input shape is the vocabulary count used for the movie reviews (10,000 words)\n",
    "vocab_size = 10000\n",
    "\n",
    "model = keras.Sequential()\n",
    "model.add(keras.layers.Embedding(vocab_size, 16))\n",
    "model.add(keras.layers.GlobalAveragePooling1D())\n",
    "model.add(keras.layers.Dense(16, activation=tf.nn.relu))\n",
    "model.add(keras.layers.Dense(1, activation=tf.nn.sigmoid))\n",
    "\n",
    "model.summary()"
   ]
  },
  {
   "cell_type": "code",
   "execution_count": 12,
   "metadata": {},
   "outputs": [],
   "source": [
    "model.compile(optimizer=tf.train.AdamOptimizer(),\n",
    "              loss='binary_crossentropy',\n",
    "              metrics=['accuracy'])"
   ]
  },
  {
   "cell_type": "code",
   "execution_count": 13,
   "metadata": {},
   "outputs": [],
   "source": [
    "x_val = train_data[:10000]\n",
    "partial_x_train = train_data[10000:]\n",
    "\n",
    "y_val = train_labels[:10000]\n",
    "partial_y_train = train_labels[10000:]"
   ]
  },
  {
   "cell_type": "code",
   "execution_count": 19,
   "metadata": {},
   "outputs": [
    {
     "name": "stdout",
     "output_type": "stream",
     "text": [
      "Train on 15000 samples, validate on 10000 samples\n",
      "Epoch 1/80\n",
      "15000/15000 [==============================] - 1s 77us/step - loss: 0.2025 - acc: 0.9283 - val_loss: 0.2945 - val_acc: 0.8816\n",
      "Epoch 2/80\n",
      "15000/15000 [==============================] - 1s 89us/step - loss: 0.1974 - acc: 0.9304 - val_loss: 0.2930 - val_acc: 0.8816\n",
      "Epoch 3/80\n",
      "15000/15000 [==============================] - 1s 71us/step - loss: 0.1927 - acc: 0.9329 - val_loss: 0.2924 - val_acc: 0.8811\n",
      "Epoch 4/80\n",
      "15000/15000 [==============================] - 1s 73us/step - loss: 0.1882 - acc: 0.9340 - val_loss: 0.2910 - val_acc: 0.8821\n",
      "Epoch 5/80\n",
      "15000/15000 [==============================] - 1s 76us/step - loss: 0.1843 - acc: 0.9352 - val_loss: 0.2900 - val_acc: 0.8822\n",
      "Epoch 6/80\n",
      "15000/15000 [==============================] - 1s 87us/step - loss: 0.1798 - acc: 0.9380 - val_loss: 0.2898 - val_acc: 0.8834\n",
      "Epoch 7/80\n",
      "15000/15000 [==============================] - 1s 85us/step - loss: 0.1761 - acc: 0.9398 - val_loss: 0.2892 - val_acc: 0.8826\n",
      "Epoch 8/80\n",
      "15000/15000 [==============================] - 1s 71us/step - loss: 0.1717 - acc: 0.9424 - val_loss: 0.2886 - val_acc: 0.8831\n",
      "Epoch 9/80\n",
      "15000/15000 [==============================] - 1s 74us/step - loss: 0.1680 - acc: 0.9435 - val_loss: 0.2881 - val_acc: 0.8826\n",
      "Epoch 10/80\n",
      "15000/15000 [==============================] - 1s 74us/step - loss: 0.1644 - acc: 0.9449 - val_loss: 0.2878 - val_acc: 0.8845\n",
      "Epoch 11/80\n",
      "15000/15000 [==============================] - 1s 73us/step - loss: 0.1606 - acc: 0.9465 - val_loss: 0.2880 - val_acc: 0.8832\n",
      "Epoch 12/80\n",
      "15000/15000 [==============================] - 1s 77us/step - loss: 0.1572 - acc: 0.9480 - val_loss: 0.2879 - val_acc: 0.8832\n",
      "Epoch 13/80\n",
      "15000/15000 [==============================] - 1s 75us/step - loss: 0.1538 - acc: 0.9496 - val_loss: 0.2881 - val_acc: 0.8850\n",
      "Epoch 14/80\n",
      "15000/15000 [==============================] - 1s 84us/step - loss: 0.1506 - acc: 0.9511 - val_loss: 0.2889 - val_acc: 0.8837\n",
      "Epoch 15/80\n",
      "15000/15000 [==============================] - 1s 87us/step - loss: 0.1475 - acc: 0.9533 - val_loss: 0.2894 - val_acc: 0.8838\n",
      "Epoch 16/80\n",
      "15000/15000 [==============================] - 1s 73us/step - loss: 0.1450 - acc: 0.9534 - val_loss: 0.2891 - val_acc: 0.8851\n",
      "Epoch 17/80\n",
      "15000/15000 [==============================] - 1s 92us/step - loss: 0.1416 - acc: 0.9549 - val_loss: 0.2906 - val_acc: 0.8854\n",
      "Epoch 18/80\n",
      "15000/15000 [==============================] - 1s 79us/step - loss: 0.1390 - acc: 0.9558 - val_loss: 0.2914 - val_acc: 0.8838\n",
      "Epoch 19/80\n",
      "15000/15000 [==============================] - 1s 72us/step - loss: 0.1355 - acc: 0.9579 - val_loss: 0.2911 - val_acc: 0.8857\n",
      "Epoch 20/80\n",
      "15000/15000 [==============================] - 1s 71us/step - loss: 0.1328 - acc: 0.9595 - val_loss: 0.2916 - val_acc: 0.8853\n",
      "Epoch 21/80\n",
      "15000/15000 [==============================] - 1s 80us/step - loss: 0.1306 - acc: 0.9599 - val_loss: 0.2924 - val_acc: 0.8856\n",
      "Epoch 22/80\n",
      "15000/15000 [==============================] - 1s 72us/step - loss: 0.1272 - acc: 0.9615 - val_loss: 0.2934 - val_acc: 0.8855\n",
      "Epoch 23/80\n",
      "15000/15000 [==============================] - 1s 72us/step - loss: 0.1247 - acc: 0.9627 - val_loss: 0.2952 - val_acc: 0.8854\n",
      "Epoch 24/80\n",
      "15000/15000 [==============================] - 1s 70us/step - loss: 0.1226 - acc: 0.9623 - val_loss: 0.2961 - val_acc: 0.8849\n",
      "Epoch 25/80\n",
      "15000/15000 [==============================] - 1s 80us/step - loss: 0.1197 - acc: 0.9639 - val_loss: 0.2967 - val_acc: 0.8855\n",
      "Epoch 26/80\n",
      "15000/15000 [==============================] - 1s 74us/step - loss: 0.1174 - acc: 0.9653 - val_loss: 0.2981 - val_acc: 0.8851\n",
      "Epoch 27/80\n",
      "15000/15000 [==============================] - 1s 82us/step - loss: 0.1153 - acc: 0.9661 - val_loss: 0.2990 - val_acc: 0.8845\n",
      "Epoch 28/80\n",
      "15000/15000 [==============================] - 1s 74us/step - loss: 0.1130 - acc: 0.9663 - val_loss: 0.3005 - val_acc: 0.8854\n",
      "Epoch 29/80\n",
      "15000/15000 [==============================] - 1s 76us/step - loss: 0.1108 - acc: 0.9673 - val_loss: 0.3031 - val_acc: 0.8836\n",
      "Epoch 30/80\n",
      "15000/15000 [==============================] - 1s 74us/step - loss: 0.1084 - acc: 0.9679 - val_loss: 0.3032 - val_acc: 0.8842\n",
      "Epoch 31/80\n",
      "15000/15000 [==============================] - 1s 77us/step - loss: 0.1060 - acc: 0.9694 - val_loss: 0.3044 - val_acc: 0.8848\n",
      "Epoch 32/80\n",
      "15000/15000 [==============================] - 1s 77us/step - loss: 0.1039 - acc: 0.9703 - val_loss: 0.3073 - val_acc: 0.8835\n",
      "Epoch 33/80\n",
      "15000/15000 [==============================] - 1s 77us/step - loss: 0.1020 - acc: 0.9706 - val_loss: 0.3075 - val_acc: 0.8844\n",
      "Epoch 34/80\n",
      "15000/15000 [==============================] - 1s 85us/step - loss: 0.0999 - acc: 0.9721 - val_loss: 0.3107 - val_acc: 0.8823\n",
      "Epoch 35/80\n",
      "15000/15000 [==============================] - 1s 83us/step - loss: 0.0981 - acc: 0.9715 - val_loss: 0.3115 - val_acc: 0.8834\n",
      "Epoch 36/80\n",
      "15000/15000 [==============================] - 2s 128us/step - loss: 0.0962 - acc: 0.9732 - val_loss: 0.3136 - val_acc: 0.8826\n",
      "Epoch 37/80\n",
      "15000/15000 [==============================] - 1s 90us/step - loss: 0.0940 - acc: 0.9739 - val_loss: 0.3145 - val_acc: 0.8835\n",
      "Epoch 38/80\n",
      "15000/15000 [==============================] - 1s 94us/step - loss: 0.0923 - acc: 0.9741 - val_loss: 0.3160 - val_acc: 0.8836\n",
      "Epoch 39/80\n",
      "15000/15000 [==============================] - 1s 83us/step - loss: 0.0904 - acc: 0.9753 - val_loss: 0.3185 - val_acc: 0.8813\n",
      "Epoch 40/80\n",
      "15000/15000 [==============================] - 1s 73us/step - loss: 0.0886 - acc: 0.9756 - val_loss: 0.3211 - val_acc: 0.8810\n",
      "Epoch 41/80\n",
      "15000/15000 [==============================] - 1s 75us/step - loss: 0.0869 - acc: 0.9776 - val_loss: 0.3217 - val_acc: 0.8831\n",
      "Epoch 42/80\n",
      "15000/15000 [==============================] - 1s 72us/step - loss: 0.0853 - acc: 0.9776 - val_loss: 0.3238 - val_acc: 0.8812\n",
      "Epoch 43/80\n",
      "15000/15000 [==============================] - 1s 74us/step - loss: 0.0834 - acc: 0.9785 - val_loss: 0.3254 - val_acc: 0.8813\n",
      "Epoch 44/80\n",
      "15000/15000 [==============================] - 1s 80us/step - loss: 0.0817 - acc: 0.9794 - val_loss: 0.3277 - val_acc: 0.8815\n",
      "Epoch 45/80\n",
      "15000/15000 [==============================] - 1s 75us/step - loss: 0.0800 - acc: 0.9796 - val_loss: 0.3302 - val_acc: 0.8818\n",
      "Epoch 46/80\n",
      "15000/15000 [==============================] - 1s 79us/step - loss: 0.0789 - acc: 0.9803 - val_loss: 0.3319 - val_acc: 0.8811\n",
      "Epoch 47/80\n",
      "15000/15000 [==============================] - 1s 75us/step - loss: 0.0769 - acc: 0.9806 - val_loss: 0.3353 - val_acc: 0.8796\n",
      "Epoch 48/80\n",
      "15000/15000 [==============================] - 1s 81us/step - loss: 0.0753 - acc: 0.9814 - val_loss: 0.3363 - val_acc: 0.8807\n",
      "Epoch 49/80\n",
      "15000/15000 [==============================] - 1s 73us/step - loss: 0.0739 - acc: 0.9811 - val_loss: 0.3398 - val_acc: 0.8798\n",
      "Epoch 50/80\n",
      "15000/15000 [==============================] - 1s 74us/step - loss: 0.0727 - acc: 0.9815 - val_loss: 0.3424 - val_acc: 0.8792\n",
      "Epoch 51/80\n",
      "15000/15000 [==============================] - 1s 81us/step - loss: 0.0710 - acc: 0.9837 - val_loss: 0.3432 - val_acc: 0.8802\n",
      "Epoch 52/80\n",
      "15000/15000 [==============================] - 1s 79us/step - loss: 0.0694 - acc: 0.9835 - val_loss: 0.3457 - val_acc: 0.8797\n",
      "Epoch 53/80\n",
      "15000/15000 [==============================] - 1s 76us/step - loss: 0.0682 - acc: 0.9832 - val_loss: 0.3485 - val_acc: 0.8795\n",
      "Epoch 54/80\n",
      "15000/15000 [==============================] - 1s 76us/step - loss: 0.0665 - acc: 0.9845 - val_loss: 0.3510 - val_acc: 0.8789\n",
      "Epoch 55/80\n",
      "15000/15000 [==============================] - 1s 75us/step - loss: 0.0652 - acc: 0.9848 - val_loss: 0.3529 - val_acc: 0.8798\n",
      "Epoch 56/80\n",
      "15000/15000 [==============================] - 1s 92us/step - loss: 0.0640 - acc: 0.9859 - val_loss: 0.3552 - val_acc: 0.8800\n",
      "Epoch 57/80\n",
      "15000/15000 [==============================] - 1s 83us/step - loss: 0.0626 - acc: 0.9855 - val_loss: 0.3583 - val_acc: 0.8777\n",
      "Epoch 58/80\n",
      "15000/15000 [==============================] - 1s 83us/step - loss: 0.0614 - acc: 0.9862 - val_loss: 0.3604 - val_acc: 0.8787\n",
      "Epoch 59/80\n",
      "15000/15000 [==============================] - 1s 76us/step - loss: 0.0603 - acc: 0.9867 - val_loss: 0.3632 - val_acc: 0.8781\n",
      "Epoch 60/80\n",
      "15000/15000 [==============================] - 1s 77us/step - loss: 0.0600 - acc: 0.9865 - val_loss: 0.3657 - val_acc: 0.8783\n",
      "Epoch 61/80\n",
      "15000/15000 [==============================] - 1s 79us/step - loss: 0.0580 - acc: 0.9872 - val_loss: 0.3703 - val_acc: 0.8775\n",
      "Epoch 62/80\n",
      "15000/15000 [==============================] - 1s 89us/step - loss: 0.0572 - acc: 0.9873 - val_loss: 0.3703 - val_acc: 0.8775\n",
      "Epoch 63/80\n",
      "15000/15000 [==============================] - 1s 83us/step - loss: 0.0553 - acc: 0.9887 - val_loss: 0.3735 - val_acc: 0.8774\n",
      "Epoch 64/80\n",
      "15000/15000 [==============================] - 1s 82us/step - loss: 0.0543 - acc: 0.9889 - val_loss: 0.3770 - val_acc: 0.8774\n",
      "Epoch 65/80\n",
      "15000/15000 [==============================] - 1s 85us/step - loss: 0.0529 - acc: 0.9899 - val_loss: 0.3789 - val_acc: 0.8768\n",
      "Epoch 66/80\n",
      "15000/15000 [==============================] - 1s 73us/step - loss: 0.0520 - acc: 0.9899 - val_loss: 0.3815 - val_acc: 0.8766\n",
      "Epoch 67/80\n",
      "15000/15000 [==============================] - 1s 75us/step - loss: 0.0507 - acc: 0.9903 - val_loss: 0.3837 - val_acc: 0.8771\n",
      "Epoch 68/80\n",
      "15000/15000 [==============================] - 1s 74us/step - loss: 0.0497 - acc: 0.9904 - val_loss: 0.3880 - val_acc: 0.8755\n",
      "Epoch 69/80\n",
      "15000/15000 [==============================] - 1s 83us/step - loss: 0.0487 - acc: 0.9904 - val_loss: 0.3900 - val_acc: 0.8759\n",
      "Epoch 70/80\n",
      "15000/15000 [==============================] - 1s 75us/step - loss: 0.0477 - acc: 0.9913 - val_loss: 0.3932 - val_acc: 0.8752\n",
      "Epoch 71/80\n",
      "15000/15000 [==============================] - 1s 76us/step - loss: 0.0466 - acc: 0.9915 - val_loss: 0.3988 - val_acc: 0.8737\n",
      "Epoch 72/80\n",
      "15000/15000 [==============================] - 1s 83us/step - loss: 0.0458 - acc: 0.9917 - val_loss: 0.3980 - val_acc: 0.8759\n",
      "Epoch 73/80\n",
      "15000/15000 [==============================] - 1s 76us/step - loss: 0.0449 - acc: 0.9919 - val_loss: 0.4012 - val_acc: 0.8762\n",
      "Epoch 74/80\n",
      "15000/15000 [==============================] - 1s 74us/step - loss: 0.0438 - acc: 0.9925 - val_loss: 0.4049 - val_acc: 0.8756\n",
      "Epoch 75/80\n",
      "15000/15000 [==============================] - 1s 78us/step - loss: 0.0428 - acc: 0.9925 - val_loss: 0.4070 - val_acc: 0.8756\n",
      "Epoch 76/80\n",
      "15000/15000 [==============================] - 1s 76us/step - loss: 0.0419 - acc: 0.9928 - val_loss: 0.4111 - val_acc: 0.8740\n",
      "Epoch 77/80\n",
      "15000/15000 [==============================] - 1s 75us/step - loss: 0.0409 - acc: 0.9926 - val_loss: 0.4134 - val_acc: 0.8753\n",
      "Epoch 78/80\n",
      "15000/15000 [==============================] - 1s 82us/step - loss: 0.0401 - acc: 0.9927 - val_loss: 0.4173 - val_acc: 0.8747\n",
      "Epoch 79/80\n",
      "15000/15000 [==============================] - 1s 76us/step - loss: 0.0392 - acc: 0.9933 - val_loss: 0.4196 - val_acc: 0.8741\n",
      "Epoch 80/80\n",
      "15000/15000 [==============================] - 1s 77us/step - loss: 0.0384 - acc: 0.9934 - val_loss: 0.4215 - val_acc: 0.8749\n"
     ]
    }
   ],
   "source": [
    "history = model.fit(partial_x_train,\n",
    "                    partial_y_train,\n",
    "                    epochs=80,\n",
    "                    batch_size=512,\n",
    "                    validation_data=(x_val, y_val),\n",
    "                    verbose=1)"
   ]
  },
  {
   "cell_type": "code",
   "execution_count": 20,
   "metadata": {},
   "outputs": [
    {
     "name": "stdout",
     "output_type": "stream",
     "text": [
      "25000/25000 [==============================] - 2s 76us/step\n",
      "[0.450727956328392, 0.86004]\n"
     ]
    }
   ],
   "source": [
    "results = model.evaluate(test_data, test_labels)\n",
    "\n",
    "print(results)"
   ]
  },
  {
   "cell_type": "code",
   "execution_count": 21,
   "metadata": {},
   "outputs": [
    {
     "data": {
      "text/plain": [
       "dict_keys(['val_loss', 'val_acc', 'loss', 'acc'])"
      ]
     },
     "execution_count": 21,
     "metadata": {},
     "output_type": "execute_result"
    }
   ],
   "source": [
    "history_dict = history.history\n",
    "history_dict.keys()"
   ]
  },
  {
   "cell_type": "code",
   "execution_count": 22,
   "metadata": {},
   "outputs": [
    {
     "data": {
      "image/png": "[encoded data removed]",
      "text/plain": [
       "<Figure size 432x288 with 1 Axes>"
      ]
     },
     "metadata": {
      "needs_background": "light"
     },
     "output_type": "display_data"
    }
   ],
   "source": [
    "import matplotlib.pyplot as plt\n",
    "\n",
    "acc = history.history['acc']\n",
    "val_acc = history.history['val_acc']\n",
    "loss = history.history['loss']\n",
    "val_loss = history.history['val_loss']\n",
    "\n",
    "epochs = range(1, len(acc) + 1)\n",
    "\n",
    "# \"bo\" is for \"blue dot\"\n",
    "plt.plot(epochs, loss, 'bo', label='Training loss')\n",
    "# b is for \"solid blue line\"\n",
    "plt.plot(epochs, val_loss, 'b', label='Validation loss')\n",
    "plt.title('Training and validation loss')\n",
    "plt.xlabel('Epochs')\n",
    "plt.ylabel('Loss')\n",
    "plt.legend()\n",
    "\n",
    "plt.show()"
   ]
  },
  {
   "cell_type": "code",
   "execution_count": 23,
   "metadata": {},
   "outputs": [
    {
     "data": {
      "image/png": "[encoded data removed]",
      "text/plain": [
       "<Figure size 432x288 with 1 Axes>"
      ]
     },
     "metadata": {
      "needs_background": "light"
     },
     "output_type": "display_data"
    }
   ],
   "source": [
    "plt.clf()   # clear figure\n",
    "acc_values = history_dict['acc']\n",
    "val_acc_values = history_dict['val_acc']\n",
    "\n",
    "plt.plot(epochs, acc, 'bo', label='Training acc')\n",
    "plt.plot(epochs, val_acc, 'b', label='Validation acc')\n",
    "plt.title('Training and validation accuracy')\n",
    "plt.xlabel('Epochs')\n",
    "plt.ylabel('Accuracy')\n",
    "plt.legend()\n",
    "\n",
    "plt.show()"
   ]
  },
  {
   "cell_type": "code",
   "execution_count": null,
   "metadata": {},
   "outputs": [],
   "source": []
  }
 ],
 "metadata": {
  "kernelspec": {
   "display_name": "Python 3",
   "language": "python",
   "name": "python3"
  },
  "language_info": {
   "codemirror_mode": {
    "name": "ipython",
    "version": 3
   },
   "file_extension": ".py",
   "mimetype": "text/x-python",
   "name": "python",
   "nbconvert_exporter": "python",
   "pygments_lexer": "ipython3",
   "version": "3.6.6"
  }
 },
 "nbformat": 4,
 "nbformat_minor": 2
}
