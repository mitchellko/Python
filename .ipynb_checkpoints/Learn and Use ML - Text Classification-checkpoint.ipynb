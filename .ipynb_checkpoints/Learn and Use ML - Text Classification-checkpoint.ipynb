{
 "cells": [
  {
   "cell_type": "code",
   "execution_count": 1,
   "metadata": {},
   "outputs": [
    {
     "name": "stdout",
     "output_type": "stream",
     "text": [
      "1.10.0\n"
     ]
    }
   ],
   "source": [
    "import tensorflow as tf\n",
    "from tensorflow import keras\n",
    "\n",
    "import numpy as np\n",
    "\n",
    "print(tf.__version__)"
   ]
  },
  {
   "cell_type": "code",
   "execution_count": 2,
   "metadata": {},
   "outputs": [
    {
     "name": "stdout",
     "output_type": "stream",
     "text": [
      "Downloading data from https://storage.googleapis.com/tensorflow/tf-keras-datasets/imdb.npz\n",
      "17465344/17464789 [==============================] - 23s 1us/step\n"
     ]
    }
   ],
   "source": [
    "imdb = keras.datasets.imdb\n",
    "\n",
    "(train_data, train_labels), (test_data, test_labels) = imdb.load_data(num_words=10000)"
   ]
  },
  {
   "cell_type": "code",
   "execution_count": 3,
   "metadata": {},
   "outputs": [
    {
     "name": "stdout",
     "output_type": "stream",
     "text": [
      "Training entries: 25000, labels: 25000\n"
     ]
    }
   ],
   "source": [
    "print(\"Training entries: {}, labels: {}\".format(len(train_data), len(train_labels)))"
   ]
  },
  {
   "cell_type": "code",
   "execution_count": 4,
   "metadata": {},
   "outputs": [
    {
     "name": "stdout",
     "output_type": "stream",
     "text": [
      "[1, 14, 22, 16, 43, 530, 973, 1622, 1385, 65, 458, 4468, 66, 3941, 4, 173, 36, 256, 5, 25, 100, 43, 838, 112, 50, 670, 2, 9, 35, 480, 284, 5, 150, 4, 172, 112, 167, 2, 336, 385, 39, 4, 172, 4536, 1111, 17, 546, 38, 13, 447, 4, 192, 50, 16, 6, 147, 2025, 19, 14, 22, 4, 1920, 4613, 469, 4, 22, 71, 87, 12, 16, 43, 530, 38, 76, 15, 13, 1247, 4, 22, 17, 515, 17, 12, 16, 626, 18, 2, 5, 62, 386, 12, 8, 316, 8, 106, 5, 4, 2223, 5244, 16, 480, 66, 3785, 33, 4, 130, 12, 16, 38, 619, 5, 25, 124, 51, 36, 135, 48, 25, 1415, 33, 6, 22, 12, 215, 28, 77, 52, 5, 14, 407, 16, 82, 2, 8, 4, 107, 117, 5952, 15, 256, 4, 2, 7, 3766, 5, 723, 36, 71, 43, 530, 476, 26, 400, 317, 46, 7, 4, 2, 1029, 13, 104, 88, 4, 381, 15, 297, 98, 32, 2071, 56, 26, 141, 6, 194, 7486, 18, 4, 226, 22, 21, 134, 476, 26, 480, 5, 144, 30, 5535, 18, 51, 36, 28, 224, 92, 25, 104, 4, 226, 65, 16, 38, 1334, 88, 12, 16, 283, 5, 16, 4472, 113, 103, 32, 15, 16, 5345, 19, 178, 32]\n"
     ]
    }
   ],
   "source": [
    "print(train_data[0])"
   ]
  },
  {
   "cell_type": "code",
   "execution_count": 5,
   "metadata": {},
   "outputs": [
    {
     "data": {
      "text/plain": [
       "(218, 189)"
      ]
     },
     "execution_count": 5,
     "metadata": {},
     "output_type": "execute_result"
    }
   ],
   "source": [
    "len(train_data[0]), len(train_data[1])"
   ]
  },
  {
   "cell_type": "code",
   "execution_count": 6,
   "metadata": {},
   "outputs": [
    {
     "name": "stdout",
     "output_type": "stream",
     "text": [
      "Downloading data from https://storage.googleapis.com/tensorflow/tf-keras-datasets/imdb_word_index.json\n",
      "1646592/1641221 [==============================] - 2s 2us/step\n"
     ]
    }
   ],
   "source": [
    "# A dictionary mapping words to an integer index\n",
    "word_index = imdb.get_word_index()\n",
    "\n",
    "# The first indices are reserved\n",
    "word_index = {k:(v+3) for k,v in word_index.items()} \n",
    "word_index[\"<PAD>\"] = 0\n",
    "word_index[\"<START>\"] = 1\n",
    "word_index[\"<UNK>\"] = 2  # unknown\n",
    "word_index[\"<UNUSED>\"] = 3\n",
    "\n",
    "reverse_word_index = dict([(value, key) for (key, value) in word_index.items()])\n",
    "\n",
    "def decode_review(text):\n",
    "    return ' '.join([reverse_word_index.get(i, '?') for i in text])"
   ]
  },
  {
   "cell_type": "code",
   "execution_count": 7,
   "metadata": {},
   "outputs": [
    {
     "data": {
      "text/plain": [
       "\"<START> this film was just brilliant casting location scenery story direction everyone's really suited the part they played and you could just imagine being there robert <UNK> is an amazing actor and now the same being director <UNK> father came from the same scottish island as myself so i loved the fact there was a real connection with this film the witty remarks throughout the film were great it was just brilliant so much that i bought the film as soon as it was released for <UNK> and would recommend it to everyone to watch and the fly fishing was amazing really cried at the end it was so sad and you know what they say if you cry at a film it must have been good and this definitely was also <UNK> to the two little boy's that played the <UNK> of norman and paul they were just brilliant children are often left out of the <UNK> list i think because the stars that play them all grown up are such a big profile for the whole film but these children are amazing and should be praised for what they have done don't you think the whole story was so lovely because it was true and was someone's life after all that was shared with us all\""
      ]
     },
     "execution_count": 7,
     "metadata": {},
     "output_type": "execute_result"
    }
   ],
   "source": [
    "decode_review(train_data[0])"
   ]
  },
  {
   "cell_type": "code",
   "execution_count": 8,
   "metadata": {},
   "outputs": [],
   "source": [
    "train_data = keras.preprocessing.sequence.pad_sequences(train_data,\n",
    "                                                        value=word_index[\"<PAD>\"],\n",
    "                                                        padding='post',\n",
    "                                                        maxlen=256)\n",
    "\n",
    "test_data = keras.preprocessing.sequence.pad_sequences(test_data,\n",
    "                                                       value=word_index[\"<PAD>\"],\n",
    "                                                       padding='post',\n",
    "                                                       maxlen=256)"
   ]
  },
  {
   "cell_type": "code",
   "execution_count": 9,
   "metadata": {},
   "outputs": [
    {
     "data": {
      "text/plain": [
       "(256, 256)"
      ]
     },
     "execution_count": 9,
     "metadata": {},
     "output_type": "execute_result"
    }
   ],
   "source": [
    "len(train_data[0]), len(train_data[1])"
   ]
  },
  {
   "cell_type": "code",
   "execution_count": 10,
   "metadata": {},
   "outputs": [
    {
     "name": "stdout",
     "output_type": "stream",
     "text": [
      "[   1   14   22   16   43  530  973 1622 1385   65  458 4468   66 3941\n",
      "    4  173   36  256    5   25  100   43  838  112   50  670    2    9\n",
      "   35  480  284    5  150    4  172  112  167    2  336  385   39    4\n",
      "  172 4536 1111   17  546   38   13  447    4  192   50   16    6  147\n",
      " 2025   19   14   22    4 1920 4613  469    4   22   71   87   12   16\n",
      "   43  530   38   76   15   13 1247    4   22   17  515   17   12   16\n",
      "  626   18    2    5   62  386   12    8  316    8  106    5    4 2223\n",
      " 5244   16  480   66 3785   33    4  130   12   16   38  619    5   25\n",
      "  124   51   36  135   48   25 1415   33    6   22   12  215   28   77\n",
      "   52    5   14  407   16   82    2    8    4  107  117 5952   15  256\n",
      "    4    2    7 3766    5  723   36   71   43  530  476   26  400  317\n",
      "   46    7    4    2 1029   13  104   88    4  381   15  297   98   32\n",
      " 2071   56   26  141    6  194 7486   18    4  226   22   21  134  476\n",
      "   26  480    5  144   30 5535   18   51   36   28  224   92   25  104\n",
      "    4  226   65   16   38 1334   88   12   16  283    5   16 4472  113\n",
      "  103   32   15   16 5345   19  178   32    0    0    0    0    0    0\n",
      "    0    0    0    0    0    0    0    0    0    0    0    0    0    0\n",
      "    0    0    0    0    0    0    0    0    0    0    0    0    0    0\n",
      "    0    0    0    0]\n"
     ]
    }
   ],
   "source": [
    "print(train_data[0])"
   ]
  },
  {
   "cell_type": "code",
   "execution_count": 11,
   "metadata": {},
   "outputs": [
    {
     "name": "stdout",
     "output_type": "stream",
     "text": [
      "_________________________________________________________________\n",
      "Layer (type)                 Output Shape              Param #   \n",
      "=================================================================\n",
      "embedding (Embedding)        (None, None, 16)          160000    \n",
      "_________________________________________________________________\n",
      "global_average_pooling1d (Gl (None, 16)                0         \n",
      "_________________________________________________________________\n",
      "dense (Dense)                (None, 16)                272       \n",
      "_________________________________________________________________\n",
      "dense_1 (Dense)              (None, 1)                 17        \n",
      "=================================================================\n",
      "Total params: 160,289\n",
      "Trainable params: 160,289\n",
      "Non-trainable params: 0\n",
      "_________________________________________________________________\n"
     ]
    }
   ],
   "source": [
    "# input shape is the vocabulary count used for the movie reviews (10,000 words)\n",
    "vocab_size = 10000\n",
    "\n",
    "model = keras.Sequential()\n",
    "model.add(keras.layers.Embedding(vocab_size, 16))\n",
    "model.add(keras.layers.GlobalAveragePooling1D())\n",
    "model.add(keras.layers.Dense(16, activation=tf.nn.relu))\n",
    "model.add(keras.layers.Dense(1, activation=tf.nn.sigmoid))\n",
    "\n",
    "model.summary()"
   ]
  },
  {
   "cell_type": "code",
   "execution_count": 12,
   "metadata": {},
   "outputs": [],
   "source": [
    "model.compile(optimizer=tf.train.AdamOptimizer(),\n",
    "              loss='binary_crossentropy',\n",
    "              metrics=['accuracy'])"
   ]
  },
  {
   "cell_type": "code",
   "execution_count": 13,
   "metadata": {},
   "outputs": [],
   "source": [
    "x_val = train_data[:10000]\n",
    "partial_x_train = train_data[10000:]\n",
    "\n",
    "y_val = train_labels[:10000]\n",
    "partial_y_train = train_labels[10000:]"
   ]
  },
  {
   "cell_type": "code",
   "execution_count": 14,
   "metadata": {},
   "outputs": [
    {
     "name": "stdout",
     "output_type": "stream",
     "text": [
      "Train on 15000 samples, validate on 10000 samples\n",
      "Epoch 1/40\n",
      "15000/15000 [==============================] - 4s 256us/step - loss: 0.6928 - acc: 0.5114 - val_loss: 0.6916 - val_acc: 0.5317\n",
      "Epoch 2/40\n",
      "15000/15000 [==============================] - 1s 39us/step - loss: 0.6899 - acc: 0.5550 - val_loss: 0.6893 - val_acc: 0.5623\n",
      "Epoch 3/40\n",
      "15000/15000 [==============================] - 1s 41us/step - loss: 0.6877 - acc: 0.5754 - val_loss: 0.6875 - val_acc: 0.5803\n",
      "Epoch 4/40\n",
      "15000/15000 [==============================] - 1s 41us/step - loss: 0.6851 - acc: 0.6180 - val_loss: 0.6854 - val_acc: 0.5694\n",
      "Epoch 5/40\n",
      "15000/15000 [==============================] - 1s 41us/step - loss: 0.6817 - acc: 0.6339 - val_loss: 0.6810 - val_acc: 0.6663\n",
      "Epoch 6/40\n",
      "15000/15000 [==============================] - 1s 42us/step - loss: 0.6772 - acc: 0.6879 - val_loss: 0.6762 - val_acc: 0.7009\n",
      "Epoch 7/40\n",
      "15000/15000 [==============================] - 1s 43us/step - loss: 0.6709 - acc: 0.7140 - val_loss: 0.6702 - val_acc: 0.6829\n",
      "Epoch 8/40\n",
      "15000/15000 [==============================] - 1s 42us/step - loss: 0.6625 - acc: 0.7319 - val_loss: 0.6615 - val_acc: 0.6990\n",
      "Epoch 9/40\n",
      "15000/15000 [==============================] - 1s 43us/step - loss: 0.6514 - acc: 0.7435 - val_loss: 0.6495 - val_acc: 0.7366\n",
      "Epoch 10/40\n",
      "15000/15000 [==============================] - 1s 41us/step - loss: 0.6365 - acc: 0.7621 - val_loss: 0.6343 - val_acc: 0.7474\n",
      "Epoch 11/40\n",
      "15000/15000 [==============================] - 1s 40us/step - loss: 0.6183 - acc: 0.7591 - val_loss: 0.6168 - val_acc: 0.7491\n",
      "Epoch 12/40\n",
      "15000/15000 [==============================] - 1s 38us/step - loss: 0.5962 - acc: 0.7781 - val_loss: 0.5946 - val_acc: 0.7678\n",
      "Epoch 13/40\n",
      "15000/15000 [==============================] - 1s 38us/step - loss: 0.5707 - acc: 0.7899 - val_loss: 0.5720 - val_acc: 0.7753\n",
      "Epoch 14/40\n",
      "15000/15000 [==============================] - 1s 40us/step - loss: 0.5441 - acc: 0.8033 - val_loss: 0.5468 - val_acc: 0.7878\n",
      "Epoch 15/40\n",
      "15000/15000 [==============================] - 1s 39us/step - loss: 0.5162 - acc: 0.8139 - val_loss: 0.5215 - val_acc: 0.7989\n",
      "Epoch 16/40\n",
      "15000/15000 [==============================] - 1s 38us/step - loss: 0.4892 - acc: 0.8246 - val_loss: 0.4975 - val_acc: 0.8082\n",
      "Epoch 17/40\n",
      "15000/15000 [==============================] - 1s 39us/step - loss: 0.4619 - acc: 0.8390 - val_loss: 0.4746 - val_acc: 0.8221\n",
      "Epoch 18/40\n",
      "15000/15000 [==============================] - 1s 38us/step - loss: 0.4366 - acc: 0.8495 - val_loss: 0.4525 - val_acc: 0.8306\n",
      "Epoch 19/40\n",
      "15000/15000 [==============================] - 1s 40us/step - loss: 0.4130 - acc: 0.8579 - val_loss: 0.4328 - val_acc: 0.8379\n",
      "Epoch 20/40\n",
      "15000/15000 [==============================] - 1s 39us/step - loss: 0.3915 - acc: 0.8669 - val_loss: 0.4151 - val_acc: 0.8416\n",
      "Epoch 21/40\n",
      "15000/15000 [==============================] - 1s 41us/step - loss: 0.3718 - acc: 0.8734 - val_loss: 0.3994 - val_acc: 0.8469\n",
      "Epoch 22/40\n",
      "15000/15000 [==============================] - 1s 41us/step - loss: 0.3542 - acc: 0.8792 - val_loss: 0.3856 - val_acc: 0.8523\n",
      "Epoch 23/40\n",
      "15000/15000 [==============================] - 1s 42us/step - loss: 0.3386 - acc: 0.8838 - val_loss: 0.3738 - val_acc: 0.8559\n",
      "Epoch 24/40\n",
      "15000/15000 [==============================] - 1s 39us/step - loss: 0.3242 - acc: 0.8874 - val_loss: 0.3631 - val_acc: 0.8609\n",
      "Epoch 25/40\n",
      "15000/15000 [==============================] - 1s 39us/step - loss: 0.3115 - acc: 0.8922 - val_loss: 0.3540 - val_acc: 0.8652\n",
      "Epoch 26/40\n",
      "15000/15000 [==============================] - 1s 40us/step - loss: 0.2999 - acc: 0.8948 - val_loss: 0.3460 - val_acc: 0.8664\n",
      "Epoch 27/40\n",
      "15000/15000 [==============================] - 1s 39us/step - loss: 0.2896 - acc: 0.8962 - val_loss: 0.3389 - val_acc: 0.8689\n",
      "Epoch 28/40\n",
      "15000/15000 [==============================] - 1s 41us/step - loss: 0.2796 - acc: 0.9007 - val_loss: 0.3326 - val_acc: 0.8708\n",
      "Epoch 29/40\n",
      "15000/15000 [==============================] - 1s 39us/step - loss: 0.2707 - acc: 0.9039 - val_loss: 0.3274 - val_acc: 0.8718\n",
      "Epoch 30/40\n",
      "15000/15000 [==============================] - 1s 40us/step - loss: 0.2631 - acc: 0.9049 - val_loss: 0.3224 - val_acc: 0.8734\n",
      "Epoch 31/40\n",
      "15000/15000 [==============================] - 1s 40us/step - loss: 0.2547 - acc: 0.9090 - val_loss: 0.3182 - val_acc: 0.8739\n",
      "Epoch 32/40\n",
      "15000/15000 [==============================] - 1s 39us/step - loss: 0.2481 - acc: 0.9106 - val_loss: 0.3144 - val_acc: 0.8768\n",
      "Epoch 33/40\n",
      "15000/15000 [==============================] - 1s 39us/step - loss: 0.2407 - acc: 0.9147 - val_loss: 0.3111 - val_acc: 0.8777\n",
      "Epoch 34/40\n",
      "15000/15000 [==============================] - 1s 40us/step - loss: 0.2343 - acc: 0.9171 - val_loss: 0.3081 - val_acc: 0.8787\n",
      "Epoch 35/40\n",
      "15000/15000 [==============================] - 1s 39us/step - loss: 0.2287 - acc: 0.9193 - val_loss: 0.3052 - val_acc: 0.8787\n",
      "Epoch 36/40\n",
      "15000/15000 [==============================] - 1s 39us/step - loss: 0.2223 - acc: 0.9219 - val_loss: 0.3030 - val_acc: 0.8797\n",
      "Epoch 37/40\n",
      "15000/15000 [==============================] - 1s 42us/step - loss: 0.2169 - acc: 0.9243 - val_loss: 0.3010 - val_acc: 0.8803\n",
      "Epoch 38/40\n",
      "15000/15000 [==============================] - 1s 41us/step - loss: 0.2117 - acc: 0.9256 - val_loss: 0.2986 - val_acc: 0.8806\n",
      "Epoch 39/40\n",
      "15000/15000 [==============================] - 1s 39us/step - loss: 0.2063 - acc: 0.9281 - val_loss: 0.2970 - val_acc: 0.8807\n",
      "Epoch 40/40\n",
      "15000/15000 [==============================] - 1s 39us/step - loss: 0.2015 - acc: 0.9283 - val_loss: 0.2952 - val_acc: 0.8814\n"
     ]
    }
   ],
   "source": [
    "history = model.fit(partial_x_train,\n",
    "                    partial_y_train,\n",
    "                    epochs=40,\n",
    "                    batch_size=512,\n",
    "                    validation_data=(x_val, y_val),\n",
    "                    verbose=1)"
   ]
  },
  {
   "cell_type": "code",
   "execution_count": 15,
   "metadata": {},
   "outputs": [
    {
     "name": "stdout",
     "output_type": "stream",
     "text": [
      "25000/25000 [==============================] - 1s 45us/step\n",
      "[0.3078374245738983, 0.87444]\n"
     ]
    }
   ],
   "source": [
    "results = model.evaluate(test_data, test_labels)\n",
    "\n",
    "print(results)"
   ]
  },
  {
   "cell_type": "code",
   "execution_count": 16,
   "metadata": {},
   "outputs": [
    {
     "data": {
      "text/plain": [
       "dict_keys(['val_loss', 'loss', 'val_acc', 'acc'])"
      ]
     },
     "execution_count": 16,
     "metadata": {},
     "output_type": "execute_result"
    }
   ],
   "source": [
    "history_dict = history.history\n",
    "history_dict.keys()"
   ]
  },
  {
   "cell_type": "code",
   "execution_count": 17,
   "metadata": {},
   "outputs": [
    {
     "data": {
      "text/plain": [
       "<Figure size 640x480 with 1 Axes>"
      ]
     },
     "metadata": {},
     "output_type": "display_data"
    }
   ],
   "source": [
    "import matplotlib.pyplot as plt\n",
    "\n",
    "acc = history.history['acc']\n",
    "val_acc = history.history['val_acc']\n",
    "loss = history.history['loss']\n",
    "val_loss = history.history['val_loss']\n",
    "\n",
    "epochs = range(1, len(acc) + 1)\n",
    "\n",
    "# \"bo\" is for \"blue dot\"\n",
    "plt.plot(epochs, loss, 'bo', label='Training loss')\n",
    "# b is for \"solid blue line\"\n",
    "plt.plot(epochs, val_loss, 'b', label='Validation loss')\n",
    "plt.title('Training and validation loss')\n",
    "plt.xlabel('Epochs')\n",
    "plt.ylabel('Loss')\n",
    "plt.legend()\n",
    "\n",
    "plt.show()"
   ]
  },
  {
   "cell_type": "code",
   "execution_count": 18,
   "metadata": {},
   "outputs": [
    {
     "data": {
      "image/png": "[encoded data removed]",
      "text/plain": [
       "<Figure size 432x288 with 1 Axes>"
      ]
     },
     "metadata": {
      "needs_background": "light"
     },
     "output_type": "display_data"
    }
   ],
   "source": [
    "plt.clf()   # clear figure\n",
    "acc_values = history_dict['acc']\n",
    "val_acc_values = history_dict['val_acc']\n",
    "\n",
    "plt.plot(epochs, acc, 'bo', label='Training acc')\n",
    "plt.plot(epochs, val_acc, 'b', label='Validation acc')\n",
    "plt.title('Training and validation accuracy')\n",
    "plt.xlabel('Epochs')\n",
    "plt.ylabel('Accuracy')\n",
    "plt.legend()\n",
    "\n",
    "plt.show()"
   ]
  },
  {
   "cell_type": "code",
   "execution_count": null,
   "metadata": {},
   "outputs": [],
   "source": []
  }
 ],
 "metadata": {
  "kernelspec": {
   "display_name": "Python 3",
   "language": "python",
   "name": "python3"
  },
  "language_info": {
   "codemirror_mode": {
    "name": "ipython",
    "version": 3
   },
   "file_extension": ".py",
   "mimetype": "text/x-python",
   "name": "python",
   "nbconvert_exporter": "python",
   "pygments_lexer": "ipython3",
   "version": "3.5.6"
  }
 },
 "nbformat": 4,
 "nbformat_minor": 2
}
